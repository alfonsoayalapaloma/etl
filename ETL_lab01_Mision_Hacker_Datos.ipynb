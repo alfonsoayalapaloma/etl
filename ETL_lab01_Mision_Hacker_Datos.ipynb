{
  "cells": [
    {
      "cell_type": "markdown",
      "metadata": {
        "id": "view-in-github",
        "colab_type": "text"
      },
      "source": [
        "<a href=\"https://colab.research.google.com/github/alfonsoayalapaloma/etl/blob/main/ETL_lab01_Mision_Hacker_Datos.ipynb\" target=\"_parent\"><img src=\"https://colab.research.google.com/assets/colab-badge.svg\" alt=\"Open In Colab\"/></a>"
      ]
    },
    {
      "cell_type": "markdown",
      "metadata": {
        "id": "H9_-My6Xn6m-"
      },
      "source": [
        "# 🕵️‍♂️ Misión Hacker: Identificación y Clasificación de Fuentes de Datos\n",
        "\n",
        "Eres un poderoso hacker 🕶️ que se ha infiltrado en un sistema remoto y has encontrado **tres archivos misteriosos**:\n",
        "- `data01.txt`\n",
        "- `data02.txt`\n",
        "- `data03.txt`\n",
        "\n",
        "Tu misión es **identificarlos y clasificarlos**:\n",
        "- ¿Son **CSV**? (valores separados por comas)\n",
        "- ¿Son **JSON**? (estructura con llaves `{}` y listas `[]`)\n",
        "- ¿O son **no estructurados**, texto caótico que requiere análisis manual?"
      ],
      "id": "H9_-My6Xn6m-"
    },
    {
      "cell_type": "markdown",
      "metadata": {
        "id": "cuW2iIf9n6nB"
      },
      "source": [
        "## 🧪 Pasos Manuales\n",
        "1. Usa el **explorador de Windows** para ver los archivos.\n",
        "2. Abre cada archivo en un **editor de texto**.\n",
        "3. Observa encabezados, líneas y delimitadores."
      ],
      "id": "cuW2iIf9n6nB"
    },
    {
      "cell_type": "markdown",
      "metadata": {
        "id": "-JST-Yg9n6nC"
      },
      "source": [
        "## 📊 Tabla Comparativa de Archivos\n",
        "\n",
        "| Archivo     | Formato | Codificación | Tamaño (bytes) | Número de filas | Longitud promedio de fila | Delimitador (si aplica) | Estructura clara | Clasificación |\n",
        "|-------------|---------|--------------|----------------|-----------------|---------------------------|--------------------------|------------------|---------------|\n",
        "| data01.txt  |         |              |                |                 |                           |                          |                  |               |\n",
        "| data02.txt  |         |              |                |                 |                           |                          |                  |               |\n",
        "| data03.txt  |         |              |                |                 |                           |                          |                  |               |"
      ],
      "id": "-JST-Yg9n6nC"
    },
    {
      "cell_type": "markdown",
      "metadata": {
        "id": "CLK6vyaln6nD"
      },
      "source": [
        "## 🧩 Pasos para Análisis Automático con Python\n",
        "Este script te ayudará a analizar los archivos de datos misteriosos.\n",
        "\n",
        "- Determina el **tamaño del archivo** (bytes).\n",
        "- Cuenta el **número de filas**.\n",
        "- Calcula la **longitud promedio de cada fila**.\n",
        "- Clasifica automáticamente el archivo en **JSON, CSV o No estructurado**."
      ],
      "id": "CLK6vyaln6nD"
    },
    {
      "cell_type": "code",
      "execution_count": null,
      "metadata": {
        "id": "0mRtFzlxn6nE"
      },
      "outputs": [],
      "source": [
        "import os\n",
        "import json\n",
        "\n",
        "def analyze_file(file_path):\n",
        "    size_bytes = os.path.getsize(file_path)\n",
        "    with open(file_path, 'r', encoding='utf-8', errors='ignore') as f:\n",
        "        content = f.read()\n",
        "    lines = content.splitlines()\n",
        "    num_lines = len(lines)\n",
        "    avg_line_length = sum(len(line) for line in lines) / num_lines if num_lines > 0 else 0\n",
        "\n",
        "    file_type = \"Unknown\"\n",
        "    try:\n",
        "        json.loads(content)\n",
        "        file_type = \"JSON\"\n",
        "    except:\n",
        "        if all(',' in line for line in lines if line.strip()):\n",
        "            file_type = \"CSV\"\n",
        "        elif any(line.strip() for line in lines):\n",
        "            file_type = \"Unstructured\"\n",
        "\n",
        "    return {\n",
        "        \"file\": file_path,\n",
        "        \"size_bytes\": size_bytes,\n",
        "        \"num_lines\": num_lines,\n",
        "        \"avg_line_length\": avg_line_length,\n",
        "        \"type\": file_type\n",
        "    }\n",
        "\n",
        "files = [\"data01.txt\", \"data02.txt\", \"data03.txt\"]\n",
        "for file in files:\n",
        "    if os.path.exists(file):\n",
        "        print(analyze_file(file))\n",
        "    else:\n",
        "        print({ \"file\": file, \"error\": \"File not found\" })"
      ],
      "id": "0mRtFzlxn6nE"
    },
    {
      "cell_type": "markdown",
      "metadata": {
        "id": "tH8zrB17n6nF"
      },
      "source": [
        "## 🧠 Tu Misión Final\n",
        "¿Estás listo para **descifrar los secretos ocultos** en estos archivos y usarlos para el **BIEN**? 💻⚡"
      ],
      "id": "tH8zrB17n6nF"
    }
  ],
  "metadata": {
    "colab": {
      "provenance": [],
      "include_colab_link": true
    },
    "kernelspec": {
      "display_name": "Python 3",
      "language": "python",
      "name": "python3"
    },
    "language_info": {
      "name": "python",
      "version": "3.x"
    }
  },
  "nbformat": 4,
  "nbformat_minor": 5
}