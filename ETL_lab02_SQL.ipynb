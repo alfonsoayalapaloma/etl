{
  "cells": [
    {
      "cell_type": "markdown",
      "metadata": {
        "id": "view-in-github",
        "colab_type": "text"
      },
      "source": [
        "<a href=\"https://colab.research.google.com/github/alfonsoayalapaloma/etl/blob/main/02_Taller_SQL.ipynb\" target=\"_parent\"><img src=\"https://colab.research.google.com/assets/colab-badge.svg\" alt=\"Open In Colab\"/></a>"
      ]
    },
    {
      "cell_type": "markdown",
      "metadata": {
        "id": "tIrlgOEwo73I"
      },
      "source": [
        "# 🛠️ Taller SQL\n",
        "\n",
        "Felicitaciones! Has sido nombrado **Ingeniero de Datos**, y ya tienes tu primera asignación. 🚀\n",
        "\n",
        "Debes conectarte a una base de datos **SQLite3**, documentar su estructura, y realizar en ella varias consultas pedidas por el negocio.\n",
        "\n",
        "Esto se debe hacer porque el ingeniero anterior fue contratado para una misión a Marte y se fue sin decir “adiós” y no dejó documentación alguna. 🪐\n",
        "\n",
        "¡Buena suerte! 🍀"
      ],
      "id": "tIrlgOEwo73I"
    },
    {
      "cell_type": "markdown",
      "metadata": {
        "id": "9CB4QXKoo73L"
      },
      "source": [
        "## 📂 Estructura de la Base de Datos\n",
        "La base de datos contiene las siguientes tablas:"
      ],
      "id": "9CB4QXKoo73L"
    },
    {
      "cell_type": "markdown",
      "metadata": {
        "id": "ft0Ne-mDo73M"
      },
      "source": [
        "## 🗂️ Diagrama Entidad-Relación (E/R)\n",
        "Representación de las entidades (tablas) y sus relaciones (llaves primarias y foráneas)."
      ],
      "id": "ft0Ne-mDo73M"
    },
    {
      "cell_type": "markdown",
      "metadata": {
        "id": "yOlQmj89o73M"
      },
      "source": [
        "## 📑 Tabla de Metadatos\n",
        "\n",
        "Nombre Entidad:\n",
        "\n",
        "| Campo | Tipo | Tamaño | ¿Nulo? | Llave Primaria | Llave Foránea | Descripción | Ejemplo |\n",
        "|-------|------|--------|--------|----------------|---------------|-------------|---------|\n",
        "|       |      |        |        |                |               |             |         |\n",
        "|       |      |        |        |                |               |             |         |\n",
        "|       |      |        |        |                |               |             |         |\n",
        "\n",
        "---\n",
        "\n",
        "Nombre Entidad:\n",
        "\n",
        "| Campo | Tipo | Tamaño | ¿Nulo? | Llave Primaria | Llave Foránea | Descripción | Ejemplo |\n",
        "|-------|------|--------|--------|----------------|---------------|-------------|---------|\n",
        "|       |      |        |        |                |               |             |         |\n",
        "|       |      |        |        |                |               |             |         |\n",
        "|       |      |        |        |                |               |             |         |"
      ],
      "id": "yOlQmj89o73M"
    },
    {
      "cell_type": "markdown",
      "metadata": {
        "id": "vckAhFzxo73N"
      },
      "source": [
        "## 🧩 Ejercicios SQL\n",
        "Resuelve las siguientes preguntas utilizando SQL:\n",
        "\n",
        "1. ¿Cuáles son las áreas de la empresa?\n",
        "2. ¿Cuántos empleados tiene la empresa?\n",
        "3. ¿Cuáles son los nombres y cargos de todos los empleados?\n",
        "4. ¿Qué empleados tienen un salario mayor a 50000?\n",
        "5. ¿Cuál es el salario promedio por cargo?\n",
        "6. ¿Cuáles son los empleados, cargos y áreas de cada uno?\n",
        "7. ¿Cuántos empleados hay por área?\n",
        "8. ¿Qué áreas tienen un salario promedio mayor a 55000?\n",
        "9. ¿Qué empleados pertenecen al área de 'Tecnología'? Mostrar también el cargo.\n",
        "10. ¿Cuál es el área con mayor número de empleados?\n",
        "11. ¿Qué empleados tienen el cargo de 'Gerente'?\n",
        "12. ¿Cuál es el salario total pagado por área?\n",
        "13. Exporta la tabla de empleados con sus áreas a un archivo CSV separado por '|'. Incluye todos los campos de cada tabla."
      ],
      "id": "vckAhFzxo73N"
    },
    {
      "cell_type": "markdown",
      "metadata": {
        "id": "aEPLKK7yo73O"
      },
      "source": [
        "## 💡 Hint: Realizar Consultas en Python\n",
        "Para realizar consultas a la base `banco.db`, puedes usar el siguiente código:"
      ],
      "id": "aEPLKK7yo73O"
    },
    {
      "cell_type": "code",
      "execution_count": null,
      "metadata": {
        "id": "V6-t5meto73P"
      },
      "outputs": [],
      "source": [
        "import sqlite3\n",
        "import pandas as pd\n",
        "\n",
        "# Conexión a base de datos\n",
        "conn = sqlite3.connect(\"banco.db\")\n",
        "\n",
        "# Ejemplo de consulta SELECT\n",
        "df_select = pd.read_sql_query(\"SELECT nombre, cargo FROM empleado\", conn)\n",
        "print(df_select)"
      ],
      "id": "V6-t5meto73P"
    },
    {
      "cell_type": "markdown",
      "metadata": {
        "id": "LsPAJvvEo73R"
      },
      "source": [
        "## 💡 Hint: Exportación de Datos\n",
        "Para exportar la tabla de empleados con sus áreas a un archivo CSV separado por `|`, puedes usar:"
      ],
      "id": "LsPAJvvEo73R"
    },
    {
      "cell_type": "code",
      "execution_count": null,
      "metadata": {
        "id": "bbQC_cwAo73S"
      },
      "outputs": [],
      "source": [
        "# Supongamos que df es el DataFrame con empleados y sus áreas\n",
        "df.to_csv('empleados_con_area.csv', sep='|', index=False)"
      ],
      "id": "bbQC_cwAo73S"
    }
  ],
  "metadata": {
    "colab": {
      "provenance": [],
      "include_colab_link": true
    },
    "kernelspec": {
      "display_name": "Python 3",
      "language": "python",
      "name": "python3"
    },
    "language_info": {
      "name": "python",
      "version": "3.x"
    }
  },
  "nbformat": 4,
  "nbformat_minor": 5
}
